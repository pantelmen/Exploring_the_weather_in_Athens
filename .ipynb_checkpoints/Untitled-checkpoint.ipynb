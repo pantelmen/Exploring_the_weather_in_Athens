{
 "cells": [
  {
   "cell_type": "code",
   "execution_count": 295,
   "id": "57cb4e87",
   "metadata": {},
   "outputs": [],
   "source": [
    "import pandas as pd\n",
    "import numpy as np\n",
    "import matplotlib.pyplot as plt\n",
    "import math"
   ]
  },
  {
   "cell_type": "markdown",
   "id": "1076d119",
   "metadata": {},
   "source": [
    "# IMPORT DATA"
   ]
  },
  {
   "cell_type": "code",
   "execution_count": 296,
   "id": "ceac3a4f",
   "metadata": {},
   "outputs": [],
   "source": [
    "noaa = pd.read_csv(\"./Data/noaa_hellinikon_1995_2020.csv\")\n",
    "athens_ds_names = [\"DATE\",\"mean_Temp (°C)\",\"max_Temp (°C)\",\"min_Temp (°C)\",\"mean_Rel_Humidity(%)\",\n",
    "                   \"max_Humidity(%)\",\"min_Humidity(%)\",\n",
    "                  \"mean_Atm_Pressure(hPa)\",\"max_Atm_Pressure(hPa)\",\"min_Atm_Pressure(hPa)\",\n",
    "                   \"Rainfall (mm)\",\"Wind_Speed (km/h)\",\"Wind_Direction\",\n",
    "                   \"Wind_Gust (km/h)\"]\n",
    "\n",
    "athens = pd.read_csv(\"./Data/athens.csv\",names=athens_ds_names)\n"
   ]
  },
  {
   "cell_type": "markdown",
   "id": "982e1507",
   "metadata": {},
   "source": [
    "# PREPARE THE DATA"
   ]
  },
  {
   "cell_type": "code",
   "execution_count": 297,
   "id": "e18fd8a0",
   "metadata": {},
   "outputs": [
    {
     "name": "stdout",
     "output_type": "stream",
     "text": [
      "DATE                       object\n",
      "mean_Temp (°C)             object\n",
      "max_Temp (°C)              object\n",
      "min_Temp (°C)              object\n",
      "mean_Rel_Humidity(%)      float64\n",
      "max_Humidity(%)             int64\n",
      "min_Humidity(%)             int64\n",
      "mean_Atm_Pressure(hPa)    float64\n",
      "max_Atm_Pressure(hPa)     float64\n",
      "min_Atm_Pressure(hPa)     float64\n",
      "Rainfall (mm)             float64\n",
      "Wind_Speed (km/h)         float64\n",
      "Wind_Direction             object\n",
      "Wind_Gust (km/h)          float64\n",
      "dtype: object\n",
      "==============================\n",
      "STATION     object\n",
      "NAME        object\n",
      "DATE        object\n",
      "TAVG       float64\n",
      "dtype: object\n"
     ]
    },
    {
     "data": {
      "text/html": [
       "<div>\n",
       "<style scoped>\n",
       "    .dataframe tbody tr th:only-of-type {\n",
       "        vertical-align: middle;\n",
       "    }\n",
       "\n",
       "    .dataframe tbody tr th {\n",
       "        vertical-align: top;\n",
       "    }\n",
       "\n",
       "    .dataframe thead th {\n",
       "        text-align: right;\n",
       "    }\n",
       "</style>\n",
       "<table border=\"1\" class=\"dataframe\">\n",
       "  <thead>\n",
       "    <tr style=\"text-align: right;\">\n",
       "      <th></th>\n",
       "      <th>STATION</th>\n",
       "      <th>NAME</th>\n",
       "      <th>DATE</th>\n",
       "      <th>TAVG</th>\n",
       "    </tr>\n",
       "  </thead>\n",
       "  <tbody>\n",
       "    <tr>\n",
       "      <th>0</th>\n",
       "      <td>GR000016716</td>\n",
       "      <td>HELLINIKON, GR</td>\n",
       "      <td>1955-01-01</td>\n",
       "      <td>NaN</td>\n",
       "    </tr>\n",
       "    <tr>\n",
       "      <th>1</th>\n",
       "      <td>GR000016716</td>\n",
       "      <td>HELLINIKON, GR</td>\n",
       "      <td>1955-01-02</td>\n",
       "      <td>NaN</td>\n",
       "    </tr>\n",
       "    <tr>\n",
       "      <th>2</th>\n",
       "      <td>GR000016716</td>\n",
       "      <td>HELLINIKON, GR</td>\n",
       "      <td>1955-01-03</td>\n",
       "      <td>NaN</td>\n",
       "    </tr>\n",
       "    <tr>\n",
       "      <th>3</th>\n",
       "      <td>GR000016716</td>\n",
       "      <td>HELLINIKON, GR</td>\n",
       "      <td>1955-01-04</td>\n",
       "      <td>NaN</td>\n",
       "    </tr>\n",
       "    <tr>\n",
       "      <th>4</th>\n",
       "      <td>GR000016716</td>\n",
       "      <td>HELLINIKON, GR</td>\n",
       "      <td>1955-01-05</td>\n",
       "      <td>NaN</td>\n",
       "    </tr>\n",
       "    <tr>\n",
       "      <th>...</th>\n",
       "      <td>...</td>\n",
       "      <td>...</td>\n",
       "      <td>...</td>\n",
       "      <td>...</td>\n",
       "    </tr>\n",
       "    <tr>\n",
       "      <th>23246</th>\n",
       "      <td>GR000016716</td>\n",
       "      <td>HELLINIKON, GR</td>\n",
       "      <td>2020-12-27</td>\n",
       "      <td>16.6</td>\n",
       "    </tr>\n",
       "    <tr>\n",
       "      <th>23247</th>\n",
       "      <td>GR000016716</td>\n",
       "      <td>HELLINIKON, GR</td>\n",
       "      <td>2020-12-28</td>\n",
       "      <td>14.8</td>\n",
       "    </tr>\n",
       "    <tr>\n",
       "      <th>23248</th>\n",
       "      <td>GR000016716</td>\n",
       "      <td>HELLINIKON, GR</td>\n",
       "      <td>2020-12-29</td>\n",
       "      <td>16.3</td>\n",
       "    </tr>\n",
       "    <tr>\n",
       "      <th>23249</th>\n",
       "      <td>GR000016716</td>\n",
       "      <td>HELLINIKON, GR</td>\n",
       "      <td>2020-12-30</td>\n",
       "      <td>16.4</td>\n",
       "    </tr>\n",
       "    <tr>\n",
       "      <th>23250</th>\n",
       "      <td>GR000016716</td>\n",
       "      <td>HELLINIKON, GR</td>\n",
       "      <td>2020-12-31</td>\n",
       "      <td>15.4</td>\n",
       "    </tr>\n",
       "  </tbody>\n",
       "</table>\n",
       "<p>23251 rows × 4 columns</p>\n",
       "</div>"
      ],
      "text/plain": [
       "           STATION            NAME        DATE  TAVG\n",
       "0      GR000016716  HELLINIKON, GR  1955-01-01   NaN\n",
       "1      GR000016716  HELLINIKON, GR  1955-01-02   NaN\n",
       "2      GR000016716  HELLINIKON, GR  1955-01-03   NaN\n",
       "3      GR000016716  HELLINIKON, GR  1955-01-04   NaN\n",
       "4      GR000016716  HELLINIKON, GR  1955-01-05   NaN\n",
       "...            ...             ...         ...   ...\n",
       "23246  GR000016716  HELLINIKON, GR  2020-12-27  16.6\n",
       "23247  GR000016716  HELLINIKON, GR  2020-12-28  14.8\n",
       "23248  GR000016716  HELLINIKON, GR  2020-12-29  16.3\n",
       "23249  GR000016716  HELLINIKON, GR  2020-12-30  16.4\n",
       "23250  GR000016716  HELLINIKON, GR  2020-12-31  15.4\n",
       "\n",
       "[23251 rows x 4 columns]"
      ]
     },
     "execution_count": 297,
     "metadata": {},
     "output_type": "execute_result"
    }
   ],
   "source": [
    "print(athens.dtypes)\n",
    "print(\"=\"*30)\n",
    "print(noaa.dtypes)\n",
    "\n",
    "noaa"
   ]
  },
  {
   "cell_type": "code",
   "execution_count": 298,
   "id": "484f81ad",
   "metadata": {},
   "outputs": [],
   "source": [
    "athens[\"mean_Temp (°C)\"] = pd.to_numeric(athens[\"mean_Temp (°C)\"],errors=\"coerce\") #Convert to float64\n",
    "noaa.rename(columns={\"TAVG\":\"mean_Temp (°C)\"},inplace=True) #Change the name of the columnt to match with the other df\n",
    "\n",
    "athens_tmp = athens[[\"DATE\",\"mean_Temp (°C)\"]]\n",
    "noaa_tmp = noaa[[\"DATE\",\"mean_Temp (°C)\"]]\n",
    "#Drop na values \n",
    "noaa_tmp = noaa_tmp.dropna()\n",
    "athens_tmp =athens_tmp.dropna()"
   ]
  },
  {
   "cell_type": "code",
   "execution_count": 299,
   "id": "d60847a9",
   "metadata": {},
   "outputs": [
    {
     "data": {
      "text/html": [
       "<div>\n",
       "<style scoped>\n",
       "    .dataframe tbody tr th:only-of-type {\n",
       "        vertical-align: middle;\n",
       "    }\n",
       "\n",
       "    .dataframe tbody tr th {\n",
       "        vertical-align: top;\n",
       "    }\n",
       "\n",
       "    .dataframe thead th {\n",
       "        text-align: right;\n",
       "    }\n",
       "</style>\n",
       "<table border=\"1\" class=\"dataframe\">\n",
       "  <thead>\n",
       "    <tr style=\"text-align: right;\">\n",
       "      <th></th>\n",
       "      <th>DATE</th>\n",
       "      <th>MEAN_TEMPER</th>\n",
       "    </tr>\n",
       "  </thead>\n",
       "  <tbody>\n",
       "    <tr>\n",
       "      <th>0</th>\n",
       "      <td>1957-07-01</td>\n",
       "      <td>22.4</td>\n",
       "    </tr>\n",
       "    <tr>\n",
       "      <th>1</th>\n",
       "      <td>1957-07-02</td>\n",
       "      <td>26.1</td>\n",
       "    </tr>\n",
       "    <tr>\n",
       "      <th>2</th>\n",
       "      <td>1957-07-03</td>\n",
       "      <td>25.4</td>\n",
       "    </tr>\n",
       "    <tr>\n",
       "      <th>3</th>\n",
       "      <td>1957-07-04</td>\n",
       "      <td>26.5</td>\n",
       "    </tr>\n",
       "    <tr>\n",
       "      <th>4</th>\n",
       "      <td>1957-07-05</td>\n",
       "      <td>28.6</td>\n",
       "    </tr>\n",
       "    <tr>\n",
       "      <th>...</th>\n",
       "      <td>...</td>\n",
       "      <td>...</td>\n",
       "    </tr>\n",
       "    <tr>\n",
       "      <th>20935</th>\n",
       "      <td>2020-12-27</td>\n",
       "      <td>16.6</td>\n",
       "    </tr>\n",
       "    <tr>\n",
       "      <th>20936</th>\n",
       "      <td>2020-12-28</td>\n",
       "      <td>14.8</td>\n",
       "    </tr>\n",
       "    <tr>\n",
       "      <th>20937</th>\n",
       "      <td>2020-12-29</td>\n",
       "      <td>16.3</td>\n",
       "    </tr>\n",
       "    <tr>\n",
       "      <th>20938</th>\n",
       "      <td>2020-12-30</td>\n",
       "      <td>16.4</td>\n",
       "    </tr>\n",
       "    <tr>\n",
       "      <th>20939</th>\n",
       "      <td>2020-12-31</td>\n",
       "      <td>15.4</td>\n",
       "    </tr>\n",
       "  </tbody>\n",
       "</table>\n",
       "<p>20940 rows × 2 columns</p>\n",
       "</div>"
      ],
      "text/plain": [
       "            DATE  MEAN_TEMPER\n",
       "0     1957-07-01         22.4\n",
       "1     1957-07-02         26.1\n",
       "2     1957-07-03         25.4\n",
       "3     1957-07-04         26.5\n",
       "4     1957-07-05         28.6\n",
       "...          ...          ...\n",
       "20935 2020-12-27         16.6\n",
       "20936 2020-12-28         14.8\n",
       "20937 2020-12-29         16.3\n",
       "20938 2020-12-30         16.4\n",
       "20939 2020-12-31         15.4\n",
       "\n",
       "[20940 rows x 2 columns]"
      ]
     },
     "execution_count": 299,
     "metadata": {},
     "output_type": "execute_result"
    }
   ],
   "source": [
    "#merge datasets\n",
    "dataset = pd.merge(noaa_tmp,athens_tmp,on=\"DATE\",how=\"left\")\n",
    "dataset['MEAN_TEMPER'] = pd.Series(map(lambda x,y: x if math.isnan(y) else (x+y)/2,dataset[\"mean_Temp (°C)_x\"],dataset[\"mean_Temp (°C)_y\"]))\n",
    "dataset = dataset.drop(columns=[\"mean_Temp (°C)_x\",\"mean_Temp (°C)_y\"])\n",
    "dataset.DATE = pd.to_datetime(dataset.DATE) #convert the date from object to datetime \n",
    "dataset"
   ]
  },
  {
   "cell_type": "code",
   "execution_count": 303,
   "id": "a753053c",
   "metadata": {},
   "outputs": [
    {
     "name": "stdout",
     "output_type": "stream",
     "text": [
      "26.23214585079631\n"
     ]
    },
    {
     "data": {
      "text/html": [
       "<div>\n",
       "<style scoped>\n",
       "    .dataframe tbody tr th:only-of-type {\n",
       "        vertical-align: middle;\n",
       "    }\n",
       "\n",
       "    .dataframe tbody tr th {\n",
       "        vertical-align: top;\n",
       "    }\n",
       "\n",
       "    .dataframe thead th {\n",
       "        text-align: right;\n",
       "    }\n",
       "</style>\n",
       "<table border=\"1\" class=\"dataframe\">\n",
       "  <thead>\n",
       "    <tr style=\"text-align: right;\">\n",
       "      <th></th>\n",
       "      <th>MEAN_TEMPER</th>\n",
       "    </tr>\n",
       "    <tr>\n",
       "      <th>year</th>\n",
       "      <th></th>\n",
       "    </tr>\n",
       "  </thead>\n",
       "  <tbody>\n",
       "    <tr>\n",
       "      <th>2011</th>\n",
       "      <td>28.561957</td>\n",
       "    </tr>\n",
       "    <tr>\n",
       "      <th>2012</th>\n",
       "      <td>30.995455</td>\n",
       "    </tr>\n",
       "    <tr>\n",
       "      <th>2013</th>\n",
       "      <td>24.566667</td>\n",
       "    </tr>\n",
       "    <tr>\n",
       "      <th>2014</th>\n",
       "      <td>28.714286</td>\n",
       "    </tr>\n",
       "    <tr>\n",
       "      <th>2015</th>\n",
       "      <td>27.563043</td>\n",
       "    </tr>\n",
       "    <tr>\n",
       "      <th>2016</th>\n",
       "      <td>28.422826</td>\n",
       "    </tr>\n",
       "    <tr>\n",
       "      <th>2017</th>\n",
       "      <td>28.269186</td>\n",
       "    </tr>\n",
       "    <tr>\n",
       "      <th>2018</th>\n",
       "      <td>27.678804</td>\n",
       "    </tr>\n",
       "    <tr>\n",
       "      <th>2019</th>\n",
       "      <td>28.093478</td>\n",
       "    </tr>\n",
       "    <tr>\n",
       "      <th>2020</th>\n",
       "      <td>27.380435</td>\n",
       "    </tr>\n",
       "  </tbody>\n",
       "</table>\n",
       "</div>"
      ],
      "text/plain": [
       "      MEAN_TEMPER\n",
       "year             \n",
       "2011    28.561957\n",
       "2012    30.995455\n",
       "2013    24.566667\n",
       "2014    28.714286\n",
       "2015    27.563043\n",
       "2016    28.422826\n",
       "2017    28.269186\n",
       "2018    27.678804\n",
       "2019    28.093478\n",
       "2020    27.380435"
      ]
     },
     "execution_count": 303,
     "metadata": {},
     "output_type": "execute_result"
    }
   ],
   "source": [
    "dataset[\"month\"] = dataset.DATE.dt.month\n",
    "dataset[\"year\"] = dataset.DATE.dt.year\n",
    "summer_months = dataset.loc[((dataset.month > 5) & (dataset.month < 9))]\n",
    "summer = summer_months.loc[((dataset.year >= 1974) &(dataset.year <= 1999))]\n",
    "mean_summer_tmp = summer.MEAN_TEMPER.mean()\n",
    "print(mean_summer_tmp)\n",
    "years = summer_months.groupby([\"year\"]).mean().drop(\"month\",axis=1)\n",
    "years.tail(10)"
   ]
  },
  {
   "cell_type": "code",
   "execution_count": 301,
   "id": "8fba950b",
   "metadata": {},
   "outputs": [],
   "source": [
    "#calculate differnce\n",
    "years[\"Difference\"] =  years.MEAN_TEMPER -mean_summer_tmp \n",
    "years = years.drop(columns=\"MEAN_TEMPER\")\n",
    "years.head(10)\n",
    "#calculate rolling average\n",
    "roll_avg = years.rolling(10,min_periods=1).mean()\n"
   ]
  },
  {
   "cell_type": "markdown",
   "id": "7d5c8661",
   "metadata": {},
   "source": [
    "# PLOT"
   ]
  },
  {
   "cell_type": "code",
   "execution_count": 302,
   "id": "70fc7cb4",
   "metadata": {},
   "outputs": [
    {
     "data": {
      "image/png": "[encoded data removed]",
      "text/plain": [
       "<Figure size 864x720 with 1 Axes>"
      ]
     },
     "metadata": {},
     "output_type": "display_data"
    }
   ],
   "source": [
    "plt.style.use(\"ggplot\")\n",
    "plt.figure(figsize=(12,10))\n",
    "colors = list(map(lambda x: 'r' if x > 0 else \"b\",years.Difference))\n",
    "plt.bar(years.index,years.Difference,width=.2,color=colors)\n",
    "plt.plot(roll_avg,c='b')\n",
    "plt.title(\"Mean Summer Temperature Difference from the 1974-1999 Mean\")\n",
    "plt.grid(visible=True)"
   ]
  },
  {
   "cell_type": "code",
   "execution_count": null,
   "id": "946a92f5",
   "metadata": {},
   "outputs": [],
   "source": [
    "\n"
   ]
  },
  {
   "cell_type": "code",
   "execution_count": null,
   "id": "1cd36763",
   "metadata": {},
   "outputs": [],
   "source": [
    "\n",
    "\n",
    "\n"
   ]
  },
  {
   "cell_type": "code",
   "execution_count": null,
   "id": "1d641e69",
   "metadata": {},
   "outputs": [],
   "source": [
    "\n"
   ]
  },
  {
   "cell_type": "code",
   "execution_count": null,
   "id": "7a558f89",
   "metadata": {},
   "outputs": [],
   "source": []
  },
  {
   "cell_type": "code",
   "execution_count": null,
   "id": "173bf601",
   "metadata": {},
   "outputs": [],
   "source": []
  },
  {
   "cell_type": "code",
   "execution_count": null,
   "id": "3122912d",
   "metadata": {},
   "outputs": [],
   "source": []
  },
  {
   "cell_type": "code",
   "execution_count": null,
   "id": "22c2e180",
   "metadata": {},
   "outputs": [],
   "source": []
  }
 ],
 "metadata": {
  "kernelspec": {
   "display_name": "Python 3",
   "language": "python",
   "name": "python3"
  },
  "language_info": {
   "codemirror_mode": {
    "name": "ipython",
    "version": 3
   },
   "file_extension": ".py",
   "mimetype": "text/x-python",
   "name": "python",
   "nbconvert_exporter": "python",
   "pygments_lexer": "ipython3",
   "version": "3.8.10"
  }
 },
 "nbformat": 4,
 "nbformat_minor": 5
}
